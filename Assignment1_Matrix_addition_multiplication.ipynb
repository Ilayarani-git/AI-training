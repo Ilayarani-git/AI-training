{
  "nbformat": 4,
  "nbformat_minor": 0,
  "metadata": {
    "colab": {
      "provenance": [],
      "authorship_tag": "ABX9TyMw6OP9fapGaTS5ei3Sb3Ug",
      "include_colab_link": true
    },
    "kernelspec": {
      "name": "python3",
      "display_name": "Python 3"
    },
    "language_info": {
      "name": "python"
    }
  },
  "cells": [
    {
      "cell_type": "markdown",
      "metadata": {
        "id": "view-in-github",
        "colab_type": "text"
      },
      "source": [
        "<a href=\"https://colab.research.google.com/github/Ilayarani-git/AI-training/blob/main/Assignment1_Matrix_addition_multiplication.ipynb\" target=\"_parent\"><img src=\"https://colab.research.google.com/assets/colab-badge.svg\" alt=\"Open In Colab\"/></a>"
      ]
    },
    {
      "cell_type": "code",
      "execution_count": 14,
      "metadata": {
        "colab": {
          "base_uri": "https://localhost:8080/"
        },
        "id": "wB3esFCZLSz9",
        "outputId": "1998eeef-23c3-42e2-e5ac-a56e0e6974ba"
      },
      "outputs": [
        {
          "output_type": "stream",
          "name": "stdout",
          "text": [
            "list1 =  [[1, 2, 3], [4, 5, 6], [7, 8, 9]]\n",
            "list2 =  [[70, 80, 90], [40, 50, 60], [10, 20, 30]]\n",
            "list3 =  [[71, 82, 93], [44, 55, 66], [17, 28, 39]]\n",
            "list4 =  [[70, 160, 270], [160, 250, 360], [70, 160, 270]]\n"
          ]
        }
      ],
      "source": [
        "list1 = [[1,2,3],[4,5,6],[7,8,9]]\n",
        "list2 = [[70,80,90],[40,50,60],[10,20,30]]\n",
        "list3 = []\n",
        "list4 = []\n",
        "#Print list1\n",
        "print(\"list1 = \",list1)\n",
        "#Print list2\n",
        "print(\"list2 = \",list2)\n",
        "for innerlist1,innerlist2 in zip(list1,list2):\n",
        "    innerlist3 = []\n",
        "    innerlist4 = []\n",
        "    for item1,item2 in zip(innerlist1,innerlist2):\n",
        "        innerlist3.append(item1+item2)\n",
        "        innerlist4.append(item1*item2)\n",
        "    list3.append(innerlist3)\n",
        "    list4.append(innerlist4)\n",
        "\n",
        "#Sum of Matrix\n",
        "print(\"list3 = \",list3)\n",
        "#Product of matrix\n",
        "print(\"list4 = \",list4)"
      ]
    },
    {
      "cell_type": "code",
      "source": [],
      "metadata": {
        "id": "T9poB3IAL56k"
      },
      "execution_count": 14,
      "outputs": []
    },
    {
      "cell_type": "code",
      "source": [],
      "metadata": {
        "id": "t8LFrvowM2cQ"
      },
      "execution_count": null,
      "outputs": []
    }
  ]
}